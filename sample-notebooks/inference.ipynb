{
 "cells": [
  {
   "cell_type": "markdown",
   "id": "1cd91e0e",
   "metadata": {},
   "source": [
    "Install deps"
   ]
  },
  {
   "cell_type": "code",
   "execution_count": 1,
   "id": "09f22ead-e1c2-4164-a92b-fd40354c864b",
   "metadata": {},
   "outputs": [
    {
     "name": "stdout",
     "output_type": "stream",
     "text": [
      "Requirement already satisfied: ray==2.9.3 in /opt/conda/lib/python3.11/site-packages (from ray[default]==2.9.3) (2.9.3)\n",
      "Requirement already satisfied: click>=7.0 in /opt/conda/lib/python3.11/site-packages (from ray==2.9.3->ray[default]==2.9.3) (8.1.7)\n",
      "Requirement already satisfied: filelock in /opt/conda/lib/python3.11/site-packages (from ray==2.9.3->ray[default]==2.9.3) (3.13.1)\n",
      "Requirement already satisfied: jsonschema in /opt/conda/lib/python3.11/site-packages (from ray==2.9.3->ray[default]==2.9.3) (4.21.1)\n",
      "Requirement already satisfied: msgpack<2.0.0,>=1.0.0 in /opt/conda/lib/python3.11/site-packages (from ray==2.9.3->ray[default]==2.9.3) (1.0.8)\n",
      "Requirement already satisfied: packaging in /opt/conda/lib/python3.11/site-packages (from ray==2.9.3->ray[default]==2.9.3) (23.2)\n",
      "Requirement already satisfied: protobuf!=3.19.5,>=3.15.3 in /opt/conda/lib/python3.11/site-packages (from ray==2.9.3->ray[default]==2.9.3) (4.25.3)\n",
      "Requirement already satisfied: pyyaml in /opt/conda/lib/python3.11/site-packages (from ray==2.9.3->ray[default]==2.9.3) (6.0.1)\n",
      "Requirement already satisfied: aiosignal in /opt/conda/lib/python3.11/site-packages (from ray==2.9.3->ray[default]==2.9.3) (1.3.1)\n",
      "Requirement already satisfied: frozenlist in /opt/conda/lib/python3.11/site-packages (from ray==2.9.3->ray[default]==2.9.3) (1.4.1)\n",
      "Requirement already satisfied: requests in /opt/conda/lib/python3.11/site-packages (from ray==2.9.3->ray[default]==2.9.3) (2.31.0)\n",
      "Requirement already satisfied: aiohttp>=3.7 in /opt/conda/lib/python3.11/site-packages (from ray[default]==2.9.3) (3.9.3)\n",
      "Requirement already satisfied: aiohttp-cors in /opt/conda/lib/python3.11/site-packages (from ray[default]==2.9.3) (0.7.0)\n",
      "Requirement already satisfied: colorful in /opt/conda/lib/python3.11/site-packages (from ray[default]==2.9.3) (0.5.6)\n",
      "Requirement already satisfied: py-spy>=0.2.0 in /opt/conda/lib/python3.11/site-packages (from ray[default]==2.9.3) (0.3.14)\n",
      "Requirement already satisfied: gpustat>=1.0.0 in /opt/conda/lib/python3.11/site-packages (from ray[default]==2.9.3) (1.1.1)\n",
      "Requirement already satisfied: opencensus in /opt/conda/lib/python3.11/site-packages (from ray[default]==2.9.3) (0.11.4)\n",
      "Requirement already satisfied: pydantic!=2.0.*,!=2.1.*,!=2.2.*,!=2.3.*,!=2.4.*,<3 in /opt/conda/lib/python3.11/site-packages (from ray[default]==2.9.3) (2.6.4)\n",
      "Requirement already satisfied: prometheus-client>=0.7.1 in /opt/conda/lib/python3.11/site-packages (from ray[default]==2.9.3) (0.20.0)\n",
      "Requirement already satisfied: smart-open in /opt/conda/lib/python3.11/site-packages (from ray[default]==2.9.3) (7.0.1)\n",
      "Requirement already satisfied: virtualenv!=20.21.1,>=20.0.24 in /opt/conda/lib/python3.11/site-packages (from ray[default]==2.9.3) (20.25.1)\n",
      "Requirement already satisfied: grpcio>=1.42.0 in /opt/conda/lib/python3.11/site-packages (from ray[default]==2.9.3) (1.62.1)\n",
      "Requirement already satisfied: attrs>=17.3.0 in /opt/conda/lib/python3.11/site-packages (from aiohttp>=3.7->ray[default]==2.9.3) (23.2.0)\n",
      "Requirement already satisfied: multidict<7.0,>=4.5 in /opt/conda/lib/python3.11/site-packages (from aiohttp>=3.7->ray[default]==2.9.3) (6.0.5)\n",
      "Requirement already satisfied: yarl<2.0,>=1.0 in /opt/conda/lib/python3.11/site-packages (from aiohttp>=3.7->ray[default]==2.9.3) (1.9.4)\n",
      "Requirement already satisfied: nvidia-ml-py>=11.450.129 in /opt/conda/lib/python3.11/site-packages (from gpustat>=1.0.0->ray[default]==2.9.3) (12.535.133)\n",
      "Requirement already satisfied: psutil>=5.6.0 in /opt/conda/lib/python3.11/site-packages (from gpustat>=1.0.0->ray[default]==2.9.3) (5.9.8)\n",
      "Requirement already satisfied: blessed>=1.17.1 in /opt/conda/lib/python3.11/site-packages (from gpustat>=1.0.0->ray[default]==2.9.3) (1.20.0)\n",
      "Requirement already satisfied: annotated-types>=0.4.0 in /opt/conda/lib/python3.11/site-packages (from pydantic!=2.0.*,!=2.1.*,!=2.2.*,!=2.3.*,!=2.4.*,<3->ray[default]==2.9.3) (0.6.0)\n",
      "Requirement already satisfied: pydantic-core==2.16.3 in /opt/conda/lib/python3.11/site-packages (from pydantic!=2.0.*,!=2.1.*,!=2.2.*,!=2.3.*,!=2.4.*,<3->ray[default]==2.9.3) (2.16.3)\n",
      "Requirement already satisfied: typing-extensions>=4.6.1 in /opt/conda/lib/python3.11/site-packages (from pydantic!=2.0.*,!=2.1.*,!=2.2.*,!=2.3.*,!=2.4.*,<3->ray[default]==2.9.3) (4.9.0)\n",
      "Requirement already satisfied: distlib<1,>=0.3.7 in /opt/conda/lib/python3.11/site-packages (from virtualenv!=20.21.1,>=20.0.24->ray[default]==2.9.3) (0.3.8)\n",
      "Requirement already satisfied: platformdirs<5,>=3.9.1 in /opt/conda/lib/python3.11/site-packages (from virtualenv!=20.21.1,>=20.0.24->ray[default]==2.9.3) (4.2.0)\n",
      "Requirement already satisfied: jsonschema-specifications>=2023.03.6 in /opt/conda/lib/python3.11/site-packages (from jsonschema->ray==2.9.3->ray[default]==2.9.3) (2023.12.1)\n",
      "Requirement already satisfied: referencing>=0.28.4 in /opt/conda/lib/python3.11/site-packages (from jsonschema->ray==2.9.3->ray[default]==2.9.3) (0.33.0)\n",
      "Requirement already satisfied: rpds-py>=0.7.1 in /opt/conda/lib/python3.11/site-packages (from jsonschema->ray==2.9.3->ray[default]==2.9.3) (0.18.0)\n",
      "Requirement already satisfied: opencensus-context>=0.1.3 in /opt/conda/lib/python3.11/site-packages (from opencensus->ray[default]==2.9.3) (0.1.3)\n",
      "Requirement already satisfied: six~=1.16 in /opt/conda/lib/python3.11/site-packages (from opencensus->ray[default]==2.9.3) (1.16.0)\n",
      "Requirement already satisfied: google-api-core<3.0.0,>=1.0.0 in /opt/conda/lib/python3.11/site-packages (from opencensus->ray[default]==2.9.3) (2.17.1)\n",
      "Requirement already satisfied: charset-normalizer<4,>=2 in /opt/conda/lib/python3.11/site-packages (from requests->ray==2.9.3->ray[default]==2.9.3) (3.3.2)\n",
      "Requirement already satisfied: idna<4,>=2.5 in /opt/conda/lib/python3.11/site-packages (from requests->ray==2.9.3->ray[default]==2.9.3) (3.6)\n",
      "Requirement already satisfied: urllib3<3,>=1.21.1 in /opt/conda/lib/python3.11/site-packages (from requests->ray==2.9.3->ray[default]==2.9.3) (2.2.1)\n",
      "Requirement already satisfied: certifi>=2017.4.17 in /opt/conda/lib/python3.11/site-packages (from requests->ray==2.9.3->ray[default]==2.9.3) (2024.2.2)\n",
      "Requirement already satisfied: wrapt in /opt/conda/lib/python3.11/site-packages (from smart-open->ray[default]==2.9.3) (1.16.0)\n",
      "Requirement already satisfied: wcwidth>=0.1.4 in /opt/conda/lib/python3.11/site-packages (from blessed>=1.17.1->gpustat>=1.0.0->ray[default]==2.9.3) (0.2.13)\n",
      "Requirement already satisfied: googleapis-common-protos<2.0.dev0,>=1.56.2 in /opt/conda/lib/python3.11/site-packages (from google-api-core<3.0.0,>=1.0.0->opencensus->ray[default]==2.9.3) (1.63.0)\n",
      "Requirement already satisfied: google-auth<3.0.dev0,>=2.14.1 in /opt/conda/lib/python3.11/site-packages (from google-api-core<3.0.0,>=1.0.0->opencensus->ray[default]==2.9.3) (2.28.2)\n",
      "Requirement already satisfied: cachetools<6.0,>=2.0.0 in /opt/conda/lib/python3.11/site-packages (from google-auth<3.0.dev0,>=2.14.1->google-api-core<3.0.0,>=1.0.0->opencensus->ray[default]==2.9.3) (5.3.3)\n",
      "Requirement already satisfied: pyasn1-modules>=0.2.1 in /opt/conda/lib/python3.11/site-packages (from google-auth<3.0.dev0,>=2.14.1->google-api-core<3.0.0,>=1.0.0->opencensus->ray[default]==2.9.3) (0.3.0)\n",
      "Requirement already satisfied: rsa<5,>=3.1.4 in /opt/conda/lib/python3.11/site-packages (from google-auth<3.0.dev0,>=2.14.1->google-api-core<3.0.0,>=1.0.0->opencensus->ray[default]==2.9.3) (4.9)\n",
      "Requirement already satisfied: pyasn1<0.6.0,>=0.4.6 in /opt/conda/lib/python3.11/site-packages (from pyasn1-modules>=0.2.1->google-auth<3.0.dev0,>=2.14.1->google-api-core<3.0.0,>=1.0.0->opencensus->ray[default]==2.9.3) (0.5.1)\n"
     ]
    }
   ],
   "source": [
    "!pip install ray[\"default\"]==\"2.9.3\""
   ]
  },
  {
   "cell_type": "markdown",
   "id": "571d9871",
   "metadata": {},
   "source": [
    "Create our staging area for results"
   ]
  },
  {
   "cell_type": "code",
   "execution_count": 135,
   "id": "97f72a15-fddc-4ef9-a63a-7f87c03b05a3",
   "metadata": {},
   "outputs": [
    {
     "name": "stdout",
     "output_type": "stream",
     "text": [
      "touch: setting times of '/home/data/results/.placeholder': Operation not permitted\n"
     ]
    }
   ],
   "source": [
    "!mkdir -p /home/data/code /home/data/results\n",
    "!touch /home/data/results/.placeholder"
   ]
  },
  {
   "cell_type": "markdown",
   "id": "d6e922b8",
   "metadata": {},
   "source": [
    "This is our batch inference script that will be submitted to Ray Cluster"
   ]
  },
  {
   "cell_type": "code",
   "execution_count": 136,
   "id": "378c04cd-2101-4315-adc7-37eda93503d5",
   "metadata": {},
   "outputs": [
    {
     "name": "stdout",
     "output_type": "stream",
     "text": [
      "Writing /home/data/code/inference.py\n"
     ]
    }
   ],
   "source": [
    "%%writefile /home/data/code/inference.py\n",
    "import ray\n",
    "import pandas as pd\n",
    "\n",
    "s3_uri = \"s3://anonymous@air-example-data-2/imagenette2/val/\"\n",
    "\n",
    "\n",
    "ds = ray.data.read_images(s3_uri)\n",
    "\n",
    "from typing import Dict\n",
    "import numpy as np\n",
    "\n",
    "from transformers import pipeline\n",
    "from PIL import Image\n",
    "\n",
    "BATCH_SIZE = 16\n",
    "\n",
    "class ImageClassifier:\n",
    "    def __init__(self):\n",
    "        # If doing CPU inference, set `device=\"cpu\"` instead.\n",
    "        self.classifier = pipeline(\"image-classification\", model=\"google/vit-base-patch16-224\", device=0)\n",
    "\n",
    "    def __call__(self, batch: Dict[str, np.ndarray]):\n",
    "        # Convert the numpy array of images into a list of PIL images which is the format the HF pipeline expects.\n",
    "        outputs = self.classifier(\n",
    "            [Image.fromarray(image_array) for image_array in batch[\"image\"]], \n",
    "            top_k=1, \n",
    "            batch_size=BATCH_SIZE)\n",
    "        \n",
    "        # `outputs` is a list of length-one lists. For example:\n",
    "        # [[{'score': '...', 'label': '...'}], ..., [{'score': '...', 'label': '...'}]]\n",
    "        batch[\"score\"] = [output[0][\"score\"] for output in outputs]\n",
    "        batch[\"label\"] = [output[0][\"label\"] for output in outputs]\n",
    "        return batch\n",
    "\n",
    "predictions = ds.map_batches(\n",
    "    ImageClassifier,\n",
    "    compute=ray.data.ActorPoolStrategy(size=4), # Change this number based on the number of GPUs in your cluster.\n",
    "    num_gpus=1, # Specify 1 GPU per model replica.\n",
    "    batch_size=BATCH_SIZE # Use the largest batch size that can fit on our GPUs\n",
    ")\n",
    "\n",
    "# Take some sample predictions\n",
    "sample_predictions = predictions.take(5)\n",
    "\n",
    "# Convert sample predictions to DataFrame\n",
    "df = pd.DataFrame(sample_predictions)\n",
    "\n",
    "# Write predictions DataFrame to csv file\n",
    "df.to_csv('/data/results/sample_predictions.csv', index=False)"
   ]
  },
  {
   "cell_type": "markdown",
   "id": "79679ce5",
   "metadata": {},
   "source": [
    "Submit the Ray Job"
   ]
  },
  {
   "cell_type": "code",
   "execution_count": 137,
   "id": "74556cf7-7dac-4df3-bfcf-510c23fb60c2",
   "metadata": {},
   "outputs": [
    {
     "name": "stdout",
     "output_type": "stream",
     "text": [
      "raysubmit_jpsA3UygQNgspP3Q\n"
     ]
    }
   ],
   "source": [
    "train_deps = [\n",
    "    \"transformers\",\n",
    "    \"torch==2.2.0\"\n",
    "]\n",
    "\n",
    "from ray.job_submission import JobSubmissionClient\n",
    "import os\n",
    "client = JobSubmissionClient(\"http://\"+os.environ[\"RAY_CLUSTER\"]+\":8265\")\n",
    "job_id = client.submit_job(\n",
    "    entrypoint=\"python /data/code/inference.py\",\n",
    "    # Path to the local directory that contains the script.py file\n",
    "    runtime_env={\"pip\": train_deps}\n",
    ")\n",
    "print(job_id)"
   ]
  },
  {
   "cell_type": "markdown",
   "id": "a0551a86",
   "metadata": {},
   "source": [
    "Monitor Job status"
   ]
  },
  {
   "cell_type": "code",
   "execution_count": 138,
   "id": "1c4ad08a-d26f-4c45-b6c9-1bb80159be0a",
   "metadata": {},
   "outputs": [
    {
     "name": "stdout",
     "output_type": "stream",
     "text": [
      "status: RUNNING\n",
      "status: RUNNING\n",
      "status: RUNNING\n",
      "status: RUNNING\n",
      "status: RUNNING\n",
      "status: RUNNING\n",
      "status: RUNNING\n",
      "status: RUNNING\n",
      "status: RUNNING\n",
      "status: RUNNING\n",
      "2024-03-15 00:39:41,451\tINFO worker.py:1405 -- Using address 192.168.186.125:6379 set in the environment variable RAY_ADDRESS\n",
      "2024-03-15 00:39:41,451\tINFO worker.py:1540 -- Connecting to existing Ray cluster at address: 192.168.186.125:6379...\n",
      "2024-03-15 00:39:41,455\tINFO worker.py:1715 -- Connected to Ray cluster. View the dashboard at \u001b[1m\u001b[32mhttp://192.168.186.125:8265 \u001b[39m\u001b[22m\n",
      "2024-03-15 00:39:44,771\tWARNING util.py:546 -- The argument ``compute`` is deprecated in Ray 2.9. Please specify argument ``concurrency`` instead. For more information, see https://docs.ray.io/en/master/data/transforming-data.html#stateful-transforms.\n",
      "2024-03-15 00:39:44,773\tINFO dataset.py:2488 -- Tip: Use `take_batch()` instead of `take() / show()` to return records in pandas or numpy batch format.\n",
      "2024-03-15 00:39:44,793\tINFO set_read_parallelism.py:115 -- Using autodetected parallelism=200 for stage ReadImage to satisfy DataContext.get_current().min_parallelism=200.\n",
      "2024-03-15 00:39:44,793\tINFO streaming_executor.py:112 -- Executing DAG InputDataBuffer[Input] -> TaskPoolMapOperator[ReadImage] -> ActorPoolMapOperator[MapBatches(ImageClassifier)] -> LimitOperator[limit=5]\n",
      "2024-03-15 00:39:44,794\tINFO streaming_executor.py:113 -- Execution config: ExecutionOptions(resource_limits=ExecutionResources(cpu=None, gpu=None, object_store_memory=None), exclude_resources=ExecutionResources(cpu=0, gpu=0, object_store_memory=0), locality_with_output=False, preserve_order=False, actor_locality_enabled=True, verbose_progress=False)\n",
      "2024-03-15 00:39:44,794\tINFO streaming_executor.py:115 -- Tip: For detailed progress reporting, run `ray.data.DataContext.get_current().execution_options.verbose_progress = True`\n",
      "2024-03-15 00:39:45,676\tINFO actor_pool_map_operator.py:114 -- MapBatches(ImageClassifier): Waiting for 4 pool actors to start...\n",
      "\u001b[36m(autoscaler +10s)\u001b[0m Tip: use `ray status` to view detailed cluster status. To disable these messages, set RAY_SCHEDULER_EVENTS=0.\n",
      "\u001b[36m(autoscaler +10s)\u001b[0m Adding 4 node(s) of type worker-group.\n",
      "\n"
     ]
    }
   ],
   "source": [
    "from ray.job_submission import JobStatus\n",
    "import time\n",
    "\n",
    "def wait_until_status(job_id, status_to_wait_for, timeout_seconds=300):\n",
    "    start = time.time()\n",
    "    while time.time() - start <= timeout_seconds:\n",
    "        status = client.get_job_status(job_id)\n",
    "        print(f\"status: {status}\")\n",
    "        if status in status_to_wait_for:\n",
    "            break\n",
    "        time.sleep(30)\n",
    "wait_until_status(job_id, {JobStatus.SUCCEEDED, JobStatus.STOPPED, JobStatus.FAILED})\n",
    "logs = client.get_job_logs(job_id)\n",
    "print(logs)"
   ]
  },
  {
   "cell_type": "markdown",
   "id": "6b91815a",
   "metadata": {},
   "source": [
    "Install deps for testing the inference"
   ]
  },
  {
   "cell_type": "code",
   "execution_count": 139,
   "id": "0a74946b-e96d-4657-b192-d27b01eb109e",
   "metadata": {},
   "outputs": [
    {
     "name": "stdout",
     "output_type": "stream",
     "text": [
      "Requirement already satisfied: Pillow in /opt/conda/lib/python3.11/site-packages (10.2.0)\n",
      "Requirement already satisfied: pandas in /opt/conda/lib/python3.11/site-packages (2.2.1)\n",
      "Requirement already satisfied: numpy<2,>=1.23.2 in /opt/conda/lib/python3.11/site-packages (from pandas) (1.26.4)\n",
      "Requirement already satisfied: python-dateutil>=2.8.2 in /opt/conda/lib/python3.11/site-packages (from pandas) (2.8.2)\n",
      "Requirement already satisfied: pytz>=2020.1 in /opt/conda/lib/python3.11/site-packages (from pandas) (2024.1)\n",
      "Requirement already satisfied: tzdata>=2022.7 in /opt/conda/lib/python3.11/site-packages (from pandas) (2024.1)\n",
      "Requirement already satisfied: six>=1.5 in /opt/conda/lib/python3.11/site-packages (from python-dateutil>=2.8.2->pandas) (1.16.0)\n"
     ]
    }
   ],
   "source": [
    "!pip install pandas"
   ]
  },
  {
   "cell_type": "markdown",
   "id": "ac17e429",
   "metadata": {},
   "source": [
    "Read the CSV with sample predictions created by via batch inference"
   ]
  },
  {
   "cell_type": "code",
   "execution_count": 140,
   "id": "454c5976-2972-4681-bff0-79cf61044a85",
   "metadata": {},
   "outputs": [],
   "source": [
    "import pandas as pd\n",
    "\n",
    "\n",
    "# Read in predictions csv\n",
    "df = pd.read_csv(\"/home/data/results/sample_predictions.csv\")"
   ]
  },
  {
   "cell_type": "markdown",
   "id": "1c37e624",
   "metadata": {},
   "source": [
    "Let's see what it says"
   ]
  },
  {
   "cell_type": "code",
   "execution_count": 146,
   "id": "6f2ccb35-e249-480b-89fb-f81efd478305",
   "metadata": {},
   "outputs": [
    {
     "name": "stdout",
     "output_type": "stream",
     "text": [
      "Label:  tench, Tinca tinca\n",
      "Score:  0.9996908903121948\n"
     ]
    }
   ],
   "source": [
    "print(\"Label: \", df[\"label\"].iloc[3])\n",
    "print(\"Score: \", df[\"score\"].iloc[0])"
   ]
  }
 ],
 "metadata": {
  "kernelspec": {
   "display_name": "Python 3 (ipykernel)",
   "language": "python",
   "name": "python3"
  },
  "language_info": {
   "codemirror_mode": {
    "name": "ipython",
    "version": 3
   },
   "file_extension": ".py",
   "mimetype": "text/x-python",
   "name": "python",
   "nbconvert_exporter": "python",
   "pygments_lexer": "ipython3",
   "version": "3.11.8"
  }
 },
 "nbformat": 4,
 "nbformat_minor": 5
}
